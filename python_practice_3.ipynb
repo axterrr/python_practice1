{
 "nbformat": 4,
 "nbformat_minor": 0,
 "metadata": {
  "colab": {
   "provenance": []
  },
  "kernelspec": {
   "name": "python3",
   "display_name": "Python 3 (ipykernel)",
   "language": "python"
  },
  "language_info": {
   "name": "python"
  }
 },
 "cells": [
  {
   "cell_type": "markdown",
   "source": [
    "# I. Оператори порівняння та логічні оператори. Умови."
   ],
   "metadata": {
    "id": "qDEi2Pi-4yUC"
   }
  },
  {
   "cell_type": "markdown",
   "source": [
    "1. (5б) Створіть цілочисленну змінну зі своїм щасливим або улюбленим числом. Напишіть код, який би автоматизовував наступну задачу.\n",
    "\n",
    "Якщо число парне, помножте його на 2 та виведіть результат на екран.\n",
    "\n",
    "Але якщо число непарне, помножте його на 3 та додайте 1 і виведіть на екран."
   ],
   "metadata": {
    "id": "3v8D4Dkm43Ua"
   }
  },
  {
   "cell_type": "code",
   "metadata": {
    "id": "dlVjc-Nu4bmb",
    "colab": {
     "base_uri": "https://localhost:8080/"
    },
    "outputId": "02627399-ba36-4e1f-b3ed-246143a3a536",
    "ExecuteTime": {
     "end_time": "2025-02-27T16:40:45.312208Z",
     "start_time": "2025-02-27T16:40:45.308701Z"
    }
   },
   "source": [
    "var = 24\n",
    "var = 2 * var if var % 2 == 0 else 3 * var + 1\n",
    "var"
   ],
   "outputs": [
    {
     "data": {
      "text/plain": [
       "48"
      ]
     },
     "execution_count": 4,
     "metadata": {},
     "output_type": "execute_result"
    }
   ],
   "execution_count": 4
  },
  {
   "cell_type": "markdown",
   "source": [
    "2. (9б) Створіть змінну, що посилається на список. Якщо список пустий, додайте будь-який елемент у кінець списку. Якщо ж ні, то нічого не робіть."
   ],
   "metadata": {
    "id": "H669P0QK5BI_"
   }
  },
  {
   "cell_type": "code",
   "source": [
    "list1 = []\n",
    "if len(list1) == 0:\n",
    "    list1.append(1)\n",
    "list1"
   ],
   "metadata": {
    "id": "ecWlfra45f6E",
    "colab": {
     "base_uri": "https://localhost:8080/"
    },
    "outputId": "dfe85d8a-7c5f-46eb-906f-b3a2d607bafd",
    "ExecuteTime": {
     "end_time": "2025-02-27T16:40:42.619868Z",
     "start_time": "2025-02-27T16:40:42.615327Z"
    }
   },
   "outputs": [
    {
     "data": {
      "text/plain": [
       "[1]"
      ]
     },
     "execution_count": 3,
     "metadata": {},
     "output_type": "execute_result"
    }
   ],
   "execution_count": 3
  },
  {
   "cell_type": "markdown",
   "source": [
    "3. (13б) Створіть рядок зі своїм імʼям латинкою. Напишіть код, який би автоматизовував наступну задачу.\n",
    "\n",
    "Якщо в імені є літера \"а\"\n",
    " або \"i\", Виведіть на екран повідомлення \"A or I is in the name\".\n",
    "\n",
    "\n",
    "\n",
    "Якщо в імені є літери \"o\" та \"n\", Виведіть на екран повідомлення \"O and N is in the name\".\n",
    "\n",
    "Також якщо в імені немає літери \"о\", але є \"n\", Виведіть на екран повідомлення \"Only N is in the name\".\n",
    "\n",
    "В решті випадків виведіть на екран повідомлення \"There is no N in the name, but there might be O\".\n",
    "\n",
    "Зверніть увагу, що, наприклад, для імені \"Antonina\" буде виведено два повідомлення."
   ],
   "metadata": {
    "id": "h9Y3cMUd5h85"
   }
  },
  {
   "cell_type": "code",
   "source": [
    "name = 'Vladyslav'\n",
    "if ('a' in name) or ('i' in name):\n",
    "    print('A or I is in the name')\n",
    "if ('o' in name) and ('n' in name):\n",
    "    print('O and N is in the name')\n",
    "elif 'n' in name:\n",
    "    print('Only N is in the name')\n",
    "else:\n",
    "    print('There is no N in the name, but there might be O')\n"
   ],
   "metadata": {
    "id": "bUH4LUx35u52",
    "colab": {
     "base_uri": "https://localhost:8080/"
    },
    "outputId": "20be194a-154b-452a-d021-9a3ef45d3c05",
    "ExecuteTime": {
     "end_time": "2025-02-27T16:40:48.218516Z",
     "start_time": "2025-02-27T16:40:48.214625Z"
    }
   },
   "outputs": [
    {
     "name": "stdout",
     "output_type": "stream",
     "text": [
      "A or I is in the name\n",
      "There is no N in the name, but there might be O\n"
     ]
    }
   ],
   "execution_count": 5
  },
  {
   "cell_type": "markdown",
   "source": [
    "# II. Comprehensions."
   ],
   "metadata": {
    "id": "wPCXJv4354cU"
   }
  },
  {
   "cell_type": "markdown",
   "source": [
    "4. (5б) Створіть список, використовуючи if (не if-else), range та comprehension."
   ],
   "metadata": {
    "id": "jULLW5jN55Pw"
   }
  },
  {
   "cell_type": "code",
   "source": [
    "list1 = [x for x in range(10) if x % 2 == 0]\n",
    "list1"
   ],
   "metadata": {
    "id": "mlZalnVC6W3F",
    "colab": {
     "base_uri": "https://localhost:8080/"
    },
    "outputId": "e6fd67fa-154d-46f7-ab19-76f5b18e6c28",
    "ExecuteTime": {
     "end_time": "2025-02-27T16:40:52.736880Z",
     "start_time": "2025-02-27T16:40:52.733460Z"
    }
   },
   "outputs": [
    {
     "data": {
      "text/plain": [
       "[0, 2, 4, 6, 8]"
      ]
     },
     "execution_count": 6,
     "metadata": {},
     "output_type": "execute_result"
    }
   ],
   "execution_count": 6
  },
  {
   "cell_type": "markdown",
   "source": [
    "5. (9б) Створіть словник, використовуючи dict comprehension, що містить if else. Коли слід використовувати comprehensions, а коли їх слід уникати?"
   ],
   "metadata": {
    "id": "LqhEQ4JW6XcC"
   }
  },
  {
   "cell_type": "code",
   "source": [
    "dict1 = {x : \"Even\" if x % 2 == 0 else \"Odd\" for x in range(10)}\n",
    "dict1"
   ],
   "metadata": {
    "id": "1yVaFbOs6hta",
    "colab": {
     "base_uri": "https://localhost:8080/"
    },
    "outputId": "fab6b573-c708-41c2-952f-cda901f29cd9",
    "ExecuteTime": {
     "end_time": "2025-02-27T16:41:02.381561Z",
     "start_time": "2025-02-27T16:41:02.377618Z"
    }
   },
   "outputs": [
    {
     "data": {
      "text/plain": [
       "{0: 'Even',\n",
       " 1: 'Odd',\n",
       " 2: 'Even',\n",
       " 3: 'Odd',\n",
       " 4: 'Even',\n",
       " 5: 'Odd',\n",
       " 6: 'Even',\n",
       " 7: 'Odd',\n",
       " 8: 'Even',\n",
       " 9: 'Odd'}"
      ]
     },
     "execution_count": 7,
     "metadata": {},
     "output_type": "execute_result"
    }
   ],
   "execution_count": 7
  },
  {
   "cell_type": "markdown",
   "source": [
    "Використовувати comprehensions слід, коли вираз короткий і зрозумілий, і допомагає зробити код компактнішим. Уникати використання comprehensions потрібно, коли вираз стає занадто довгим та важко читається чи має складну логіку або вкладені цикли."
   ],
   "metadata": {
    "id": "wbkzNhKq6hzz"
   }
  },
  {
   "cell_type": "markdown",
   "source": [],
   "metadata": {
    "id": "NZ1pPEbPH7My"
   }
  },
  {
   "cell_type": "markdown",
   "source": [
    "6. (9б) Створіть список з рядками та запишіть його у змінну. Створіть ще один список на основі попереднього, де кожен рядок буде містити тільки три перших заглавних символи. Наприклад: ['hello', 'i', 'dont', 'care'] -> ['HEL', 'I', 'DON', 'CAR']. Використання comprehensions обовʼязкове."
   ],
   "metadata": {
    "id": "ZlqB8G3G6lHP"
   }
  },
  {
   "cell_type": "code",
   "source": [
    "list1 = ['hello', 'i', 'dont', 'care']\n",
    "list2 = [x[:3].upper() for x in list1]\n",
    "list2\n"
   ],
   "metadata": {
    "id": "nw6rz0bR60VC",
    "colab": {
     "base_uri": "https://localhost:8080/"
    },
    "outputId": "bf5a5d60-27c4-49af-b3f6-5b36da7fd5ea",
    "ExecuteTime": {
     "end_time": "2025-02-27T16:41:05.369283Z",
     "start_time": "2025-02-27T16:41:05.363912Z"
    }
   },
   "outputs": [
    {
     "data": {
      "text/plain": [
       "['HEL', 'I', 'DON', 'CAR']"
      ]
     },
     "execution_count": 8,
     "metadata": {},
     "output_type": "execute_result"
    }
   ],
   "execution_count": 8
  },
  {
   "cell_type": "markdown",
   "source": [
    "# III. Цикли."
   ],
   "metadata": {
    "id": "Tj573IAH64Fz"
   }
  },
  {
   "cell_type": "markdown",
   "source": [
    "7. (5б) Продемонструйте роботу циклу while. Не можна використовувати True для запуску циклу, щоб уникнути безкінечного циклу!"
   ],
   "metadata": {
    "id": "tN_33xdE65H5"
   }
  },
  {
   "cell_type": "code",
   "source": [
    "list1 = []\n",
    "while len(list1) < 3:\n",
    "    list1.append(0)\n",
    "list1"
   ],
   "metadata": {
    "id": "Kd9FO6yG63P5",
    "colab": {
     "base_uri": "https://localhost:8080/"
    },
    "outputId": "5dcca4d2-e3cf-42e3-920e-8285f19019fe",
    "ExecuteTime": {
     "end_time": "2025-02-27T16:41:07.613394Z",
     "start_time": "2025-02-27T16:41:07.609658Z"
    }
   },
   "outputs": [
    {
     "data": {
      "text/plain": [
       "[0, 0, 0]"
      ]
     },
     "execution_count": 9,
     "metadata": {},
     "output_type": "execute_result"
    }
   ],
   "execution_count": 9
  },
  {
   "cell_type": "markdown",
   "source": [
    "8. (5б) Напишіть програму, яка виведе на екран непарні числа в діапазоні від 0 до 20 включно."
   ],
   "metadata": {
    "id": "x2CmfZO-7pW0"
   }
  },
  {
   "cell_type": "code",
   "source": [
    "for i in range(20):\n",
    "    if i % 2 == 1:\n",
    "        print(i)"
   ],
   "metadata": {
    "id": "aCSRYA6s7tkF",
    "colab": {
     "base_uri": "https://localhost:8080/"
    },
    "outputId": "639a4842-e14e-4ea3-ede5-ded008670044",
    "ExecuteTime": {
     "end_time": "2025-02-27T16:41:09.266224Z",
     "start_time": "2025-02-27T16:41:09.263408Z"
    }
   },
   "outputs": [
    {
     "name": "stdout",
     "output_type": "stream",
     "text": [
      "1\n",
      "3\n",
      "5\n",
      "7\n",
      "9\n",
      "11\n",
      "13\n",
      "15\n",
      "17\n",
      "19\n"
     ]
    }
   ],
   "execution_count": 10
  },
  {
   "cell_type": "markdown",
   "source": [
    "9. (13б) Створіть список з елементами булевого типу або None. Використовуючи цикли, отримайте в результаті список з кортежами, де перший елемент кортежу - індекс(ціле число), а другий елемент - відповідне значення з першого списку.\n",
    "\n",
    "Наприклад, [True, True, None, False] -> [(0, True), (1, True), (2, None), (3, False)]"
   ],
   "metadata": {
    "id": "MDWNocZD7t_B"
   }
  },
  {
   "cell_type": "code",
   "source": [
    "list1 = [True, True, None, False]\n",
    "list2 = []\n",
    "for i in range(len(list1)):\n",
    "    list2.append((i, list1[i]))\n",
    "list2"
   ],
   "metadata": {
    "id": "0EUyjMdp7yfh",
    "colab": {
     "base_uri": "https://localhost:8080/"
    },
    "outputId": "19665b91-e17e-4741-85f9-ce612b41cc9b",
    "ExecuteTime": {
     "end_time": "2025-02-27T16:41:11.320850Z",
     "start_time": "2025-02-27T16:41:11.317271Z"
    }
   },
   "outputs": [
    {
     "data": {
      "text/plain": [
       "[(0, True), (1, True), (2, None), (3, False)]"
      ]
     },
     "execution_count": 11,
     "metadata": {},
     "output_type": "execute_result"
    }
   ],
   "execution_count": 11
  },
  {
   "cell_type": "markdown",
   "source": [
    "10. (9б) Створіть словник, де ключі - назви книжок, а значення - їхня кількість у наявності в Вашій міні-бібліотеці. Бібліотека має містити щонайменше 6 книжок (6 пар значень у словнику) і щонайбільше 10 (пар значень). Використовуючи цикли, оновіть словник (не створюйте новий) так, щоби кількість книг у наявності збільшилося на 5 кожної книги. Наприклад,\n",
    "{'It': 3, 'Fault stars': 10, 'Bible': 17, 'Psychological romance': 4, 'Harry Potter': 13} -> {'It': 8, 'Fault stars': 15, 'Bible': 22, 'Psychological romance': 9, 'Harry Potter': 18}"
   ],
   "metadata": {
    "id": "-6XUqlcG7zKs"
   }
  },
  {
   "cell_type": "code",
   "source": [
    "dict1 = {'It': 3, 'Fault stars': 10, 'Bible': 17, 'Psychological romance': 4, 'Harry Potter': 13, \"1984\": 5}\n",
    "for key in dict1:\n",
    "    dict1[key] += 5\n",
    "dict1"
   ],
   "metadata": {
    "id": "Ceoj9wwb791q",
    "colab": {
     "base_uri": "https://localhost:8080/"
    },
    "outputId": "1ddce24b-ff75-4cb9-e758-6f161fcaba5f",
    "ExecuteTime": {
     "end_time": "2025-02-27T16:41:13.463597Z",
     "start_time": "2025-02-27T16:41:13.459605Z"
    }
   },
   "outputs": [
    {
     "data": {
      "text/plain": [
       "{'It': 8,\n",
       " 'Fault stars': 15,\n",
       " 'Bible': 22,\n",
       " 'Psychological romance': 9,\n",
       " 'Harry Potter': 18,\n",
       " '1984': 10}"
      ]
     },
     "execution_count": 12,
     "metadata": {},
     "output_type": "execute_result"
    }
   ],
   "execution_count": 12
  },
  {
   "cell_type": "markdown",
   "source": [
    "11. (5б) Визначте цілочислену змінну n, що належить проміжку від 4 до 10 включно. Використовуючи цикли, виведіть в консоль наступний патерн.\n",
    "\n",
    "#\n",
    "##\n",
    "###\n",
    "####\n",
    "\n",
    "... #*n\n"
   ],
   "metadata": {
    "id": "QLzyJM288AC7"
   }
  },
  {
   "cell_type": "code",
   "source": [
    "n = 7\n",
    "for i in range(n):\n",
    "    for j in range(i+1):\n",
    "        print('#', end='')\n",
    "    print()"
   ],
   "metadata": {
    "id": "KOpng87s8Duz",
    "colab": {
     "base_uri": "https://localhost:8080/"
    },
    "outputId": "46d9bcd3-06cc-40f6-95d9-12ff3ff85945",
    "ExecuteTime": {
     "end_time": "2025-02-27T16:41:26.305510Z",
     "start_time": "2025-02-27T16:41:26.302022Z"
    }
   },
   "outputs": [
    {
     "name": "stdout",
     "output_type": "stream",
     "text": [
      "#\n",
      "##\n",
      "###\n",
      "####\n",
      "#####\n",
      "######\n",
      "#######\n"
     ]
    }
   ],
   "execution_count": 14
  },
  {
   "cell_type": "markdown",
   "source": [
    "12. (13б) Гра \"Нумо вгадай\".\n",
    "Розробіть просту гру, де користувач має вгадати випадкове число від 1 до 100. Для генерації випадкового числа використовуйте функцію random.randint(a, b) (тут a та b включно). Для отримання числа з консолі використовуйте функцію input(), результат якої обовʼязково явно приведіть до типу int.\n",
    "\n",
    "Підказка: використовуйте цикл while та умови if-else, щоб повідомити користувачу піказки (напр. \"Більше\", \"Менше\") поки користувач не вгадає. По завершенню виведіть кількість спроб, які знадобилися для вгадування."
   ],
   "metadata": {
    "id": "_bd-bqAT8EHn"
   }
  },
  {
   "cell_type": "code",
   "source": [
    "import random\n",
    "\n",
    "random_number = random.randint(1, 100)\n",
    "input_number = 0\n",
    "while input_number != random_number:\n",
    "    input_number = int(input(\"Введіть число: \"))\n",
    "    if random_number > input_number:\n",
    "        print(\"Більше\")\n",
    "    elif random_number < input_number:\n",
    "        print(\"Менше\")\n",
    "    else:\n",
    "        print(\"Ви вгадали!\")"
   ],
   "metadata": {
    "id": "IK9nnxFK8Hkl",
    "colab": {
     "base_uri": "https://localhost:8080/"
    },
    "outputId": "bbf48a9c-eea1-4d5a-f56c-fd403298b62c",
    "ExecuteTime": {
     "end_time": "2025-02-27T16:43:10.287034Z",
     "start_time": "2025-02-27T16:42:42.092788Z"
    }
   },
   "outputs": [
    {
     "name": "stdout",
     "output_type": "stream",
     "text": [
      "Більше\n",
      "Менше\n",
      "Менше\n",
      "Менше\n",
      "Менше\n",
      "Ви вгадали!\n"
     ]
    }
   ],
   "execution_count": 21
  },
  {
   "cell_type": "markdown",
   "source": [
    "# Вітаю! Ви велика(ий) молодець, що впоралась(вся). Похваліть себе та побалуйте чимось приємним. Я Вами пишаюся."
   ],
   "metadata": {
    "id": "PXoXWb7Z8IGi"
   }
  }
 ]
}
